{
 "cells": [
  {
   "cell_type": "code",
   "execution_count": 29,
   "metadata": {},
   "outputs": [],
   "source": [
    "import selenium\n",
    "from bs4 import BeautifulSoup\n",
    "from selenium import webdriver\n",
    "from selenium.webdriver.common.keys import Keys\n",
    "from selenium.webdriver.support.ui import WebDriverWait as wait\n",
    "from selenium.common.exceptions import TimeoutException\n",
    "import time\n",
    "\n",
    "# webdriver executable path\n",
    "\n",
    "driver = webdriver.Firefox(executable_path = r'D:\\chrome\\geckodriver-v0.26.0-win64\\geckodriver.exe')"
   ]
  },
  {
   "cell_type": "code",
   "execution_count": 30,
   "metadata": {},
   "outputs": [],
   "source": [
    "# Guide you towards the linkdin\n",
    "url = \"https://www.linkedin.com/login\"\n",
    "username = 'please enter your user name here'\n",
    "password = 'PLease enter your password here'\n",
    "\n",
    "driver.get(url)\n",
    "driver.maximize_window()"
   ]
  },
  {
   "cell_type": "code",
   "execution_count": 31,
   "metadata": {},
   "outputs": [],
   "source": [
    "# type your username and password\n",
    "\n",
    "driver.find_element_by_xpath('//*[@id=\"username\"]').send_keys(username)\n",
    "driver.find_element_by_xpath('//*[@id=\"password\"]').send_keys(password)"
   ]
  },
  {
   "cell_type": "code",
   "execution_count": 32,
   "metadata": {},
   "outputs": [],
   "source": [
    "# This will guide towards the connection\n",
    "\n",
    "driver.find_element_by_xpath('/html/body/div/main/div[2]/form/div[3]/button').click()\n",
    "time.sleep(5)\n",
    "driver.find_element_by_xpath('//*[@id=\"mynetwork-tab-icon\"]').click()\n"
   ]
  },
  {
   "cell_type": "code",
   "execution_count": 36,
   "metadata": {},
   "outputs": [],
   "source": [
    "#Depends on internet speed i am getting lower speed hence i have added sleep time of 5 seconds\n",
    "\n",
    "time.sleep(5)\n",
    "driver.find_element_by_xpath('//*[@id=\"ember636\"]').click()"
   ]
  },
  {
   "cell_type": "code",
   "execution_count": 43,
   "metadata": {},
   "outputs": [
    {
     "name": "stderr",
     "output_type": "stream",
     "text": [
      "\n",
      "KeyboardInterrupt\n",
      "\n"
     ]
    }
   ],
   "source": [
    "\n",
    "# Get the current number of rows\n",
    "current_rows_number = len(driver.find_elements_by_class_name('list-style-none'))\n",
    "i = 0\n",
    "while True:\n",
    "    # Scroll down to make new XHR (request more table rows)\n",
    "    driver.find_element_by_tag_name('body').send_keys(Keys.END)\n",
    "    time.sleep(2)\n",
    "    driver.find_element_by_tag_name('body').send_keys(Keys.PAGE_UP)\n",
    "    time.sleep(3)\n",
    "    driver.find_element_by_tag_name('body').send_keys(Keys.END)\n",
    "    try:\n",
    "        # Wait until number of rows increased, Please value 30 , depends on your internet speed.      \n",
    "        wait(driver, 30).until(lambda x: len(driver.find_elements_by_class_name('list-style-none')) > current_rows_number)\n",
    "        \n",
    "        current_rows_number = len(driver.find_elements_by_class_name('list-style-none'))\n",
    "    # If number of rows remains the same after 30 seconds passed, break the loop\n",
    "    # as there no more rows to receive\n",
    "    except TimeoutException:\n",
    "        break"
   ]
  },
  {
   "cell_type": "code",
   "execution_count": 44,
   "metadata": {},
   "outputs": [],
   "source": [
    "soup = BeautifulSoup(driver.page_source)"
   ]
  },
  {
   "cell_type": "code",
   "execution_count": 45,
   "metadata": {},
   "outputs": [],
   "source": [
    "current_rows_number = len(driver.find_elements_by_class_name('list-style-none'))"
   ]
  },
  {
   "cell_type": "code",
   "execution_count": 68,
   "metadata": {},
   "outputs": [
    {
     "name": "stderr",
     "output_type": "stream",
     "text": [
      "100%|██████████████████████████████| 1440/1440 [00:00<00:00, 120617.44it/s]\n"
     ]
    }
   ],
   "source": [
    "from tqdm import tqdm\n",
    "Connection_name = [ ]\n",
    "\n",
    "for i in tqdm(soup.find_all('span',{'class':'mn-connection-card__name t-16 t-black t-bold'})):\n",
    "    Connection_name.append(i.text.replace('\\n','').strip())"
   ]
  },
  {
   "cell_type": "code",
   "execution_count": 69,
   "metadata": {},
   "outputs": [
    {
     "name": "stderr",
     "output_type": "stream",
     "text": [
      "100%|██████████████████████████████| 1440/1440 [00:00<00:00, 108358.56it/s]\n"
     ]
    }
   ],
   "source": [
    "occupation= []\n",
    "for i in tqdm(soup.find_all('span',{'class':'mn-connection-card__occupation t-14 t-black--light t-normal'})):\n",
    "    occupation.append(i.text.replace('\\n','').strip())"
   ]
  },
  {
   "cell_type": "code",
   "execution_count": 70,
   "metadata": {},
   "outputs": [],
   "source": [
    "import pandas as pd"
   ]
  },
  {
   "cell_type": "code",
   "execution_count": 71,
   "metadata": {},
   "outputs": [],
   "source": [
    "df = pd.DataFrame()\n",
    "df['Connection_name'] = Connection_name\n",
    "df['occupation'] = occupation"
   ]
  }
 ],
 "metadata": {
  "kernelspec": {
   "display_name": "Python 3",
   "language": "python",
   "name": "python3"
  }
 },
 "nbformat": 4,
 "nbformat_minor": 4
}
